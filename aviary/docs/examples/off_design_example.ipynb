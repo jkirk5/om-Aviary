{
 "cells": [
  {
   "cell_type": "markdown",
   "metadata": {},
   "source": [
    "# Off-Design Mission Example\n",
    "\n",
    "The off-design mission example here demonstrates the capability in the height energy formulation, using the level 2 interface.\n",
    "By default Aviary uses a height-energy formulation unless you have specified otherwise.\n",
    "Running a sizing mission followed by running fallout and alternate missions on the sized aircraft will be presented.\n",
    "An overview of off-design missions is presented in [Off-Design Mission User Guide](../user_guide/off_design_missions).\n",
    "\n",
    "The example is available in `aviary/examples/run_off_design_example.py`\n",
    "It uses the `run_level2_example.py` script and additionally runs two off-design missions.\n",
    "\n",
    "The results of the sizing problem are saved using `prob.save_sizing_to_json()`.\n",
    "By default, this method saves the results to `sizing_problem.json` but the name of the file may be changed using the `json_filename` argument.\n",
    "The saved problem may then be used to run off-design missions using `prob.fallout_mission()` and `prob.alternate_mission()`.\n",
    "\n",
    "This example can be modified to use the 2DOF formulation by using `aircraft_for_bench_GwGm` instead of `aircraft_for_bench_FwFm` and import the default 2DOF phase_info (aviary/models/missions/two_dof_default.py) instead of the `phase_info` declared in the problem.\n"
   ]
  },
  {
   "cell_type": "markdown",
   "metadata": {},
   "source": [
    "The methods used to run the off-design missions accept a variety of mission parameters including `phase_info`, some mission configuration variables such as `equations_of_motion`, and inputs that depend on the type of mission being run such as payload, passenger count, and range.\n",
    "If these values are not specified, the same values as the design mission are used by default.\n",
    "\n",
    "The expected result is that variables that are specifically given, such a new payload, passenger count, or range, is reflected in the results of the off-design mission. Variables that should not change, such as takeoff gross mass, or `design` values, are also printed to demonstrate that they remain unchanged. This demonstrates that the aircraft was not resized and instead just a new mission was run.\n",
    "\n",
    "When looking at the specific variables that were selected for printing in this example, `design` values represent the values used to size the aircraft, while the `summary` values represent the values used in the specific mission that is run."
   ]
  }
 ],
 "metadata": {
  "kernelspec": {
   "display_name": "Python 3 (ipykernel)",
   "language": "python",
   "name": "python3"
  },
  "language_info": {
   "codemirror_mode": {
    "name": "ipython",
    "version": 3
   },
   "file_extension": ".py",
   "mimetype": "text/x-python",
   "name": "python",
   "nbconvert_exporter": "python",
   "pygments_lexer": "ipython3",
   "version": "3.11.0"
  }
 },
 "nbformat": 4,
 "nbformat_minor": 2
}
